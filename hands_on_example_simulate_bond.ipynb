{
 "cells": [
  {
   "cell_type": "markdown",
   "metadata": {},
   "source": [
    "# Hands on Example - Simulating Bond"
   ]
  },
  {
   "cell_type": "markdown",
   "metadata": {},
   "source": [
    "Attention: Change variable \"simulated years\" in \"simulate_bond.py\"/\"simulate_multi_cty_bond.py\" to 7 before running the notebook"
   ]
  },
  {
   "cell_type": "code",
   "execution_count": 50,
   "metadata": {},
   "outputs": [
    {
     "name": "stdout",
     "output_type": "stream",
     "text": [
      "The autoreload extension is already loaded. To reload it, use:\n",
      "  %reload_ext autoreload\n"
     ]
    }
   ],
   "source": [
    "import pandas as pd\n",
    "import numpy as np\n",
    "\n",
    "%load_ext autoreload\n",
    "%autoreload 2\n",
    "import simulate_multi_cty_bond as smcb\n",
    "import simulate_bond as sb"
   ]
  },
  {
   "cell_type": "markdown",
   "metadata": {},
   "source": [
    "## Define Variables"
   ]
  },
  {
   "cell_type": "code",
   "execution_count": 51,
   "metadata": {},
   "outputs": [],
   "source": [
    "#define nominals\n",
    "nominal_sng = 200\n",
    "\n",
    "#define premium and risk free rate\n",
    "premium = 0.05\n",
    "rf_rate = 0.00\n",
    "\n",
    "#number countries\n",
    "countries = [1,2]\n",
    "\n",
    "#specify payouts and damages per event\n",
    "pay_dam_df_c1 = pd.DataFrame([{'pay': np.array(140.0), 'damage': np.array(150.0), 'year': 0, 'month': np.array(2)},\n",
    "                              {'pay': np.array(50.0), 'damage': np.array(50.0), 'year': 5, 'month': np.array(3)}])\n",
    "\n",
    "pay_dam_df_c2 = pd.DataFrame([{'pay': np.array(40.0), 'damage': np.array(35.0), 'year': 1, 'month': np.array(10)},\n",
    "                              {'pay': np.array(160.0), 'damage': np.array(200.0), 'year': 5, 'month': np.array(9)}])\n",
    "\n",
    "pay_dam_df_dic = {1: pay_dam_df_c1,\n",
    "                  2: pay_dam_df_c2}\n",
    "\n",
    "nominal_dic = {1: nominal_sng,\n",
    "               2: nominal_sng}"
   ]
  },
  {
   "cell_type": "markdown",
   "metadata": {},
   "source": [
    "## Simulate Single-Country Bonds"
   ]
  },
  {
   "cell_type": "markdown",
   "metadata": {},
   "source": [
    "### Country 01"
   ]
  },
  {
   "cell_type": "code",
   "execution_count": 69,
   "metadata": {},
   "outputs": [
    {
     "name": "stdout",
     "output_type": "stream",
     "text": [
      "Expected Loss = 0.07916666666666666\n",
      "Attachment Probability = 0.16666666666666666\n"
     ]
    }
   ],
   "source": [
    "exp_loss_pool_c1, att_prob_pool_c1, df_loss_month_c1, es_metrics_c1 = sb.init_exp_loss_att_prob_simulation(pay_dam_df_c1, nominal_sng)\n",
    "metrics_pool_c1, returns_pool_c1 = sb.init_bond_simulation(pay_dam_df_c1, premium, rf_rate, nominal_sng)"
   ]
  },
  {
   "cell_type": "code",
   "execution_count": 70,
   "metadata": {},
   "outputs": [
    {
     "data": {
      "text/html": [
       "<div>\n",
       "<style scoped>\n",
       "    .dataframe tbody tr th:only-of-type {\n",
       "        vertical-align: middle;\n",
       "    }\n",
       "\n",
       "    .dataframe tbody tr th {\n",
       "        vertical-align: top;\n",
       "    }\n",
       "\n",
       "    .dataframe thead th {\n",
       "        text-align: right;\n",
       "    }\n",
       "</style>\n",
       "<table border=\"1\" class=\"dataframe\">\n",
       "  <thead>\n",
       "    <tr style=\"text-align: right;\">\n",
       "      <th></th>\n",
       "      <th>Premium</th>\n",
       "      <th>Sharpe_ratio_ann</th>\n",
       "      <th>Sharpe_ratio_tot</th>\n",
       "      <th>Coverage</th>\n",
       "      <th>Basis_risk</th>\n",
       "      <th>Average Payments</th>\n",
       "      <th>Summed Payments</th>\n",
       "      <th>Total Premiums</th>\n",
       "    </tr>\n",
       "  </thead>\n",
       "  <tbody>\n",
       "    <tr>\n",
       "      <th>0</th>\n",
       "      <td>0.05</td>\n",
       "      <td>-0.185713</td>\n",
       "      <td>-0.351349</td>\n",
       "      <td>0.95</td>\n",
       "      <td>-10.0</td>\n",
       "      <td>95.0</td>\n",
       "      <td>190.0</td>\n",
       "      <td>98.291667</td>\n",
       "    </tr>\n",
       "  </tbody>\n",
       "</table>\n",
       "</div>"
      ],
      "text/plain": [
       "   Premium  Sharpe_ratio_ann  Sharpe_ratio_tot  Coverage  Basis_risk  \\\n",
       "0     0.05         -0.185713         -0.351349      0.95       -10.0   \n",
       "\n",
       "   Average Payments  Summed Payments  Total Premiums  \n",
       "0              95.0            190.0       98.291667  "
      ]
     },
     "execution_count": 70,
     "metadata": {},
     "output_type": "execute_result"
    }
   ],
   "source": [
    "metrics_pool_c1"
   ]
  },
  {
   "cell_type": "markdown",
   "metadata": {},
   "source": [
    "### Country 02"
   ]
  },
  {
   "cell_type": "code",
   "execution_count": 76,
   "metadata": {},
   "outputs": [
    {
     "name": "stdout",
     "output_type": "stream",
     "text": [
      "Expected Loss = 0.10000000000000002\n",
      "Attachment Probability = 0.25\n"
     ]
    }
   ],
   "source": [
    "exp_loss_pool_c2, att_prob_pool_c2, df_loss_month_c1, es_metrics_c2 = sb.init_exp_loss_att_prob_simulation(pay_dam_df_c2, nominal_sng)\n",
    "metrics_pool_c2, returns_pool_c2 = sb.init_bond_simulation(pay_dam_df_c2, premium, rf_rate, nominal_sng, ann_com)"
   ]
  },
  {
   "cell_type": "code",
   "execution_count": 65,
   "metadata": {},
   "outputs": [
    {
     "data": {
      "text/html": [
       "<div>\n",
       "<style scoped>\n",
       "    .dataframe tbody tr th:only-of-type {\n",
       "        vertical-align: middle;\n",
       "    }\n",
       "\n",
       "    .dataframe tbody tr th {\n",
       "        vertical-align: top;\n",
       "    }\n",
       "\n",
       "    .dataframe thead th {\n",
       "        text-align: right;\n",
       "    }\n",
       "</style>\n",
       "<table border=\"1\" class=\"dataframe\">\n",
       "  <thead>\n",
       "    <tr style=\"text-align: right;\">\n",
       "      <th></th>\n",
       "      <th>Premium</th>\n",
       "      <th>Sharpe_ratio_ann</th>\n",
       "      <th>Sharpe_ratio_tot</th>\n",
       "      <th>Coverage</th>\n",
       "      <th>Basis_risk</th>\n",
       "      <th>Average Payments</th>\n",
       "      <th>Summed Payments</th>\n",
       "      <th>Total Premiums</th>\n",
       "    </tr>\n",
       "  </thead>\n",
       "  <tbody>\n",
       "    <tr>\n",
       "      <th>0</th>\n",
       "      <td>0.05</td>\n",
       "      <td>-0.237994</td>\n",
       "      <td>-0.533473</td>\n",
       "      <td>0.888889</td>\n",
       "      <td>-30.0</td>\n",
       "      <td>80.0</td>\n",
       "      <td>240.0</td>\n",
       "      <td>111.333333</td>\n",
       "    </tr>\n",
       "  </tbody>\n",
       "</table>\n",
       "</div>"
      ],
      "text/plain": [
       "   Premium  Sharpe_ratio_ann  Sharpe_ratio_tot  Coverage  Basis_risk  \\\n",
       "0     0.05         -0.237994         -0.533473  0.888889       -30.0   \n",
       "\n",
       "   Average Payments  Summed Payments  Total Premiums  \n",
       "0              80.0            240.0      111.333333  "
      ]
     },
     "execution_count": 65,
     "metadata": {},
     "output_type": "execute_result"
    }
   ],
   "source": [
    "metrics_pool_c2"
   ]
  },
  {
   "cell_type": "markdown",
   "metadata": {},
   "source": [
    "## Simulate Multi-Country Bond"
   ]
  },
  {
   "cell_type": "code",
   "execution_count": 108,
   "metadata": {},
   "outputs": [
    {
     "name": "stdout",
     "output_type": "stream",
     "text": [
      "Expected Loss = 0.17499999999999996\n",
      "Attachment Probability = 0.3333333333333333\n"
     ]
    },
    {
     "name": "stderr",
     "output_type": "stream",
     "text": [
      "c:\\Users\\Kai\\OneDrive - UT Cloud\\Documents\\Studium_ETH\\Thesis\\Code\\master_thesis_cat_bonds\\functions.py:113: FutureWarning: The behavior of DataFrame concatenation with empty or all-NA entries is deprecated. In a future version, this will no longer exclude empty or all-NA columns when determining the result dtypes. To retain the old behavior, exclude the relevant entries before the concat operation.\n",
      "  tranches = pd.concat([tranch_df, pd.DataFrame(rows)], ignore_index=True)\n"
     ]
    }
   ],
   "source": [
    "import functions as fct\n",
    "from pathlib import Path\n",
    "exp_loss_pool, att_prob_pool, df_loss_month, total_losses, es_metrics, MES_cty = smcb.init_exp_loss_att_prob_simulation(countries, pay_dam_df_dic, nominal_sng, nominal_dic)\n",
    "tranches = fct.create_tranches(np.array([2]), total_losses, df_loss_month, Path(\"C:/Users/Kai/OneDrive - UT Cloud/Documents/Studium_ETH/Thesis\"))\n",
    "ncf, prem_cty_df = smcb.simulate_ncf_prem(premium, df_loss_month, tranches, MES_cty, 'regression')"
   ]
  },
  {
   "cell_type": "code",
   "execution_count": 122,
   "metadata": {},
   "outputs": [
    {
     "name": "stdout",
     "output_type": "stream",
     "text": [
      "Sharpe Ratio: -0.4270180530470342\n"
     ]
    }
   ],
   "source": [
    "print(f\"Sharpe Ratio: {np.mean(ncf['Total'])/np.std(ncf['Total'])}\")"
   ]
  },
  {
   "cell_type": "code",
   "execution_count": 124,
   "metadata": {},
   "outputs": [
    {
     "name": "stdout",
     "output_type": "stream",
     "text": [
      "Coverage: 0.8936170212765957\n"
     ]
    }
   ],
   "source": [
    "print(f\"Coverage: {es_metrics['Payout']/es_metrics['Damage']}\")"
   ]
  }
 ],
 "metadata": {
  "kernelspec": {
   "display_name": "climada_env",
   "language": "python",
   "name": "python3"
  },
  "language_info": {
   "codemirror_mode": {
    "name": "ipython",
    "version": 3
   },
   "file_extension": ".py",
   "mimetype": "text/x-python",
   "name": "python",
   "nbconvert_exporter": "python",
   "pygments_lexer": "ipython3",
   "version": "3.11.11"
  }
 },
 "nbformat": 4,
 "nbformat_minor": 2
}

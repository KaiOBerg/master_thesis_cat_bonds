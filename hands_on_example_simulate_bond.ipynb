{
 "cells": [
  {
   "cell_type": "markdown",
   "metadata": {},
   "source": [
    "# Hands on Example - Simulating Bond"
   ]
  },
  {
   "cell_type": "code",
   "execution_count": 14,
   "metadata": {},
   "outputs": [
    {
     "name": "stdout",
     "output_type": "stream",
     "text": [
      "The autoreload extension is already loaded. To reload it, use:\n",
      "  %reload_ext autoreload\n"
     ]
    }
   ],
   "source": [
    "import pandas as pd\n",
    "import numpy as np\n",
    "\n",
    "%load_ext autoreload\n",
    "%autoreload 2\n",
    "import simulate_multi_cty_bond as smcb\n",
    "import simulate_bond as sb"
   ]
  },
  {
   "cell_type": "markdown",
   "metadata": {},
   "source": [
    "## Define Variables"
   ]
  },
  {
   "cell_type": "code",
   "execution_count": 15,
   "metadata": {},
   "outputs": [],
   "source": [
    "#define nominals\n",
    "nominal_sng = 150.0\n",
    "nominal_mlt = 200.0\n",
    "\n",
    "#define premium and risk free rate\n",
    "premium = 0.04\n",
    "rf_rate = 0.01\n",
    "\n",
    "#number countries\n",
    "countries = ['01','02']\n",
    "\n",
    "#specify if average annual returns or compounded annual returns are wanted\n",
    "ann_com = True\n",
    "\n",
    "#specify payouts and damages per event\n",
    "pay_dam_df_c1 = pd.DataFrame([{'pay': np.array(140.0), 'damage': np.array(150.0), 'year': 0},\n",
    "                              {'pay': np.array(50.0), 'damage': np.array(50.0), 'year': 5}])\n",
    "\n",
    "pay_dam_df_c2 = pd.DataFrame([{'pay': np.array(40.0), 'damage': np.array(35.0), 'year': 1},\n",
    "                              {'pay': np.array(160.0), 'damage': np.array(200.0), 'year': 5}])\n",
    "\n",
    "pay_dam_df_dic = {'01': pay_dam_df_c1,\n",
    "                  '02': pay_dam_df_c2}"
   ]
  },
  {
   "cell_type": "markdown",
   "metadata": {},
   "source": [
    "## Simulate Single-Country Bonds"
   ]
  },
  {
   "cell_type": "markdown",
   "metadata": {},
   "source": [
    "### Country 01"
   ]
  },
  {
   "cell_type": "code",
   "execution_count": 16,
   "metadata": {},
   "outputs": [
    {
     "name": "stdout",
     "output_type": "stream",
     "text": [
      "Expected Loss = 0.10555555555555556\n",
      "Attachment Probability = 0.16666666666666666\n"
     ]
    }
   ],
   "source": [
    "exp_loss_pool_c1, att_prob_pool_c1, es_metrics_c1 = sb.init_exp_loss_att_prob_simulation(pay_dam_df_c1, nominal_sng)\n",
    "metrics_pool_c1, returns_pool_c1 = sb.init_bond_simulation(pay_dam_df_c1, premium, rf_rate, nominal_sng, ann_com)"
   ]
  },
  {
   "cell_type": "code",
   "execution_count": 17,
   "metadata": {},
   "outputs": [
    {
     "data": {
      "text/plain": [
       "{'VaR_99_ann': 0.8673333333333337,\n",
       " 'VaR_99_tot': 0.9153333333333332,\n",
       " 'VaR_95_ann': 0.6033333333333329,\n",
       " 'VaR_95_tot': 0.8433333333333332,\n",
       " 'ES_99_ann': 0.9333333333333333,\n",
       " 'ES_99_tot': 0.9333333333333333,\n",
       " 'ES_95_ann': 0.9333333333333333,\n",
       " 'ES_95_tot': 0.9333333333333333}"
      ]
     },
     "execution_count": 17,
     "metadata": {},
     "output_type": "execute_result"
    }
   ],
   "source": [
    "es_metrics_c1"
   ]
  },
  {
   "cell_type": "code",
   "execution_count": 18,
   "metadata": {},
   "outputs": [
    {
     "data": {
      "text/html": [
       "<div>\n",
       "<style scoped>\n",
       "    .dataframe tbody tr th:only-of-type {\n",
       "        vertical-align: middle;\n",
       "    }\n",
       "\n",
       "    .dataframe tbody tr th {\n",
       "        vertical-align: top;\n",
       "    }\n",
       "\n",
       "    .dataframe thead th {\n",
       "        text-align: right;\n",
       "    }\n",
       "</style>\n",
       "<table border=\"1\" class=\"dataframe\">\n",
       "  <thead>\n",
       "    <tr style=\"text-align: right;\">\n",
       "      <th></th>\n",
       "      <th>Premium</th>\n",
       "      <th>Sharpe_ratio_ann</th>\n",
       "      <th>Sharpe_ratio_tot</th>\n",
       "      <th>Coverage</th>\n",
       "      <th>Basis_risk</th>\n",
       "      <th>Average Payments</th>\n",
       "    </tr>\n",
       "  </thead>\n",
       "  <tbody>\n",
       "    <tr>\n",
       "      <th>0</th>\n",
       "      <td>0.04</td>\n",
       "      <td>-0.284152</td>\n",
       "      <td>-0.538187</td>\n",
       "      <td>0.95</td>\n",
       "      <td>-10.0</td>\n",
       "      <td>95.0</td>\n",
       "    </tr>\n",
       "  </tbody>\n",
       "</table>\n",
       "</div>"
      ],
      "text/plain": [
       "  Premium Sharpe_ratio_ann Sharpe_ratio_tot Coverage Basis_risk  \\\n",
       "0    0.04        -0.284152        -0.538187     0.95      -10.0   \n",
       "\n",
       "  Average Payments  \n",
       "0             95.0  "
      ]
     },
     "execution_count": 18,
     "metadata": {},
     "output_type": "execute_result"
    }
   ],
   "source": [
    "metrics_pool_c1"
   ]
  },
  {
   "cell_type": "markdown",
   "metadata": {},
   "source": [
    "### Country 02"
   ]
  },
  {
   "cell_type": "code",
   "execution_count": 19,
   "metadata": {},
   "outputs": [
    {
     "name": "stdout",
     "output_type": "stream",
     "text": [
      "Expected Loss = 0.12777777777777777\n",
      "Attachment Probability = 0.25\n"
     ]
    }
   ],
   "source": [
    "exp_loss_pool_c2, att_prob_pool_c2, es_metrics_c2 = sb.init_exp_loss_att_prob_simulation(pay_dam_df_c2, nominal_sng)\n",
    "metrics_pool_c2, returns_pool_c2 = sb.init_bond_simulation(pay_dam_df_c2, premium, rf_rate, nominal_sng, ann_com)"
   ]
  },
  {
   "cell_type": "code",
   "execution_count": 20,
   "metadata": {},
   "outputs": [
    {
     "data": {
      "text/plain": [
       "{'VaR_99_ann': 0.9193333333333338,\n",
       " 'VaR_99_tot': 0.9779999999999999,\n",
       " 'VaR_95_ann': 0.5966666666666662,\n",
       " 'VaR_95_tot': 0.8899999999999997,\n",
       " 'ES_99_ann': 1.0,\n",
       " 'ES_99_tot': 1.0,\n",
       " 'ES_95_ann': 1.0,\n",
       " 'ES_95_tot': 1.0}"
      ]
     },
     "execution_count": 20,
     "metadata": {},
     "output_type": "execute_result"
    }
   ],
   "source": [
    "es_metrics_c2"
   ]
  },
  {
   "cell_type": "code",
   "execution_count": 21,
   "metadata": {},
   "outputs": [
    {
     "data": {
      "text/html": [
       "<div>\n",
       "<style scoped>\n",
       "    .dataframe tbody tr th:only-of-type {\n",
       "        vertical-align: middle;\n",
       "    }\n",
       "\n",
       "    .dataframe tbody tr th {\n",
       "        vertical-align: top;\n",
       "    }\n",
       "\n",
       "    .dataframe thead th {\n",
       "        text-align: right;\n",
       "    }\n",
       "</style>\n",
       "<table border=\"1\" class=\"dataframe\">\n",
       "  <thead>\n",
       "    <tr style=\"text-align: right;\">\n",
       "      <th></th>\n",
       "      <th>Premium</th>\n",
       "      <th>Sharpe_ratio_ann</th>\n",
       "      <th>Sharpe_ratio_tot</th>\n",
       "      <th>Coverage</th>\n",
       "      <th>Basis_risk</th>\n",
       "      <th>Average Payments</th>\n",
       "    </tr>\n",
       "  </thead>\n",
       "  <tbody>\n",
       "    <tr>\n",
       "      <th>0</th>\n",
       "      <td>0.04</td>\n",
       "      <td>-0.332318</td>\n",
       "      <td>-0.753999</td>\n",
       "      <td>0.851852</td>\n",
       "      <td>-40.0</td>\n",
       "      <td>76.666667</td>\n",
       "    </tr>\n",
       "  </tbody>\n",
       "</table>\n",
       "</div>"
      ],
      "text/plain": [
       "  Premium Sharpe_ratio_ann Sharpe_ratio_tot  Coverage Basis_risk  \\\n",
       "0    0.04        -0.332318        -0.753999  0.851852      -40.0   \n",
       "\n",
       "  Average Payments  \n",
       "0        76.666667  "
      ]
     },
     "execution_count": 21,
     "metadata": {},
     "output_type": "execute_result"
    }
   ],
   "source": [
    "metrics_pool_c2"
   ]
  },
  {
   "cell_type": "markdown",
   "metadata": {},
   "source": [
    "## Simulate Multi-Country Bond"
   ]
  },
  {
   "cell_type": "code",
   "execution_count": 22,
   "metadata": {},
   "outputs": [
    {
     "name": "stdout",
     "output_type": "stream",
     "text": [
      "Expected Loss = 0.17499999999999996\n",
      "Attachment Probability = 0.3333333333333333\n"
     ]
    }
   ],
   "source": [
    "exp_loss_pool, att_prob_pool, es_metrics, MES_cty = smcb.init_exp_loss_att_prob_simulation(pay_dam_df_dic, nominal_mlt)\n",
    "metrics_pool, returns_pool, tot_coverage_pool_cty = smcb.init_bond_simulation(pay_dam_df_dic, premium, rf_rate, nominal_mlt, countries, ann_com)"
   ]
  },
  {
   "cell_type": "code",
   "execution_count": 23,
   "metadata": {},
   "outputs": [
    {
     "data": {
      "text/plain": [
       "{'VaR_99_ann': 0.9670000000000002,\n",
       " 'VaR_99_tot': 0.997,\n",
       " 'VaR_95_ann': 0.8349999999999997,\n",
       " 'VaR_95_tot': 0.985,\n",
       " 'ES_99_ann': 1.0,\n",
       " 'ES_99_tot': 1.0,\n",
       " 'ES_95_ann': 1.0,\n",
       " 'ES_95_tot': 1.0}"
      ]
     },
     "execution_count": 23,
     "metadata": {},
     "output_type": "execute_result"
    }
   ],
   "source": [
    "es_metrics"
   ]
  },
  {
   "cell_type": "code",
   "execution_count": 24,
   "metadata": {},
   "outputs": [
    {
     "data": {
      "text/plain": [
       "{0: {'95': 0.25, '99': 0.25}, 1: {'95': 0.75, '99': 0.75}}"
      ]
     },
     "execution_count": 24,
     "metadata": {},
     "output_type": "execute_result"
    }
   ],
   "source": [
    "MES_cty"
   ]
  },
  {
   "cell_type": "code",
   "execution_count": 25,
   "metadata": {},
   "outputs": [
    {
     "data": {
      "text/html": [
       "<div>\n",
       "<style scoped>\n",
       "    .dataframe tbody tr th:only-of-type {\n",
       "        vertical-align: middle;\n",
       "    }\n",
       "\n",
       "    .dataframe tbody tr th {\n",
       "        vertical-align: top;\n",
       "    }\n",
       "\n",
       "    .dataframe thead th {\n",
       "        text-align: right;\n",
       "    }\n",
       "</style>\n",
       "<table border=\"1\" class=\"dataframe\">\n",
       "  <thead>\n",
       "    <tr style=\"text-align: right;\">\n",
       "      <th></th>\n",
       "      <th>Premium</th>\n",
       "      <th>Sharpe_ratio_ann</th>\n",
       "      <th>Sharpe_ratio_tot</th>\n",
       "      <th>Coverage</th>\n",
       "      <th>Basis_risk</th>\n",
       "      <th>Average Payments</th>\n",
       "    </tr>\n",
       "  </thead>\n",
       "  <tbody>\n",
       "    <tr>\n",
       "      <th>0</th>\n",
       "      <td>0.04</td>\n",
       "      <td>-0.460943</td>\n",
       "      <td>-0.973964</td>\n",
       "      <td>0.893617</td>\n",
       "      <td>-50.0</td>\n",
       "      <td>140.0</td>\n",
       "    </tr>\n",
       "  </tbody>\n",
       "</table>\n",
       "</div>"
      ],
      "text/plain": [
       "  Premium Sharpe_ratio_ann Sharpe_ratio_tot  Coverage Basis_risk  \\\n",
       "0    0.04        -0.460943        -0.973964  0.893617      -50.0   \n",
       "\n",
       "  Average Payments  \n",
       "0            140.0  "
      ]
     },
     "execution_count": 25,
     "metadata": {},
     "output_type": "execute_result"
    }
   ],
   "source": [
    "metrics_pool"
   ]
  }
 ],
 "metadata": {
  "kernelspec": {
   "display_name": "climada_env",
   "language": "python",
   "name": "python3"
  },
  "language_info": {
   "codemirror_mode": {
    "name": "ipython",
    "version": 3
   },
   "file_extension": ".py",
   "mimetype": "text/x-python",
   "name": "python",
   "nbconvert_exporter": "python",
   "pygments_lexer": "ipython3",
   "version": "3.9.19"
  }
 },
 "nbformat": 4,
 "nbformat_minor": 2
}

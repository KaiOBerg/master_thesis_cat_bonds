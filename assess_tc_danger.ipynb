{
 "cells": [
  {
   "cell_type": "markdown",
   "metadata": {},
   "source": [
    "# Used to assess TC damage for a specified return period of selected country"
   ]
  },
  {
   "cell_type": "code",
   "execution_count": null,
   "metadata": {},
   "outputs": [],
   "source": [
    "from pathlib import Path\n",
    "\n",
    "import exposures_alt as ex\n",
    "import impact as cimp\n",
    "import set_nominal as snom\n",
    "\n",
    "file_path = \"/Users/kbergmueller/Library/CloudStorage/OneDrive-ETHZurich/Thesis\"\n",
    "STORM_DIR = Path(file_path, \"Data/hazard/tc_tracks/storm_tc_tracks\")\n",
    "OUTPUT_DIR = Path(file_path, \"Data/hazard\")"
   ]
  },
  {
   "cell_type": "code",
   "execution_count": null,
   "metadata": {},
   "outputs": [],
   "source": [
    "#function to derive damage\n",
    "def rp_exp(country, buffer_distance_km=105, res_exp=30, grid_size=6000, buffer_grid_size=1, prot_rp=None, storm_dir=STORM_DIR, output_dir=OUTPUT_DIR, ibrd_path=Path(file_path), incl_plots=False):    \n",
    "    #load tc_tracks, create hazard class and calculate exposure\n",
    "    exp, applicable_basin, grid_gdf, admin_gdf, storm_basin_sub, tc_storms = ex.init_TC_exp(country=country, buffer_distance_km=buffer_distance_km, res_exp=res_exp, grid_size=grid_size, buffer_grid_size=buffer_grid_size, OUTPUT_DIR=output_dir, STORM_DIR=storm_dir, load_fls=True, plot_exp=incl_plots, plot_centrs=incl_plots, plt_grd=incl_plots)\n",
    "    #calculate impact and aggregate impact per grid\n",
    "    imp, imp_per_event, imp_admin_evt = cimp.init_imp(exp, tc_storms, admin_gdf, plot_frequ=incl_plots) \n",
    "    nominal = snom.init_nominal(impact=imp, exposure=exp, prot_rp=prot_rp)\n",
    "\n",
    "    return nominal"
   ]
  },
  {
   "cell_type": "code",
   "execution_count": 10,
   "metadata": {},
   "outputs": [],
   "source": [
    "#specify country with desired resoltion (30 or 250)\n",
    "countries_30 = []#[585, 583, 584, 882, 776, 798, 570, 184, 480, 690, 174, 462, 780, 670, 662, 659, 52, 308, 28, 212, 132]\n",
    "countries_150 = []#[548, 626, 44, 388, 332, 214, 90, 192] \n",
    "\n",
    "#specify return period\n",
    "upper_rp = 250\n"
   ]
  },
  {
   "cell_type": "code",
   "execution_count": null,
   "metadata": {},
   "outputs": [
    {
     "name": "stdout",
     "output_type": "stream",
     "text": [
      "Create bond for 624\n"
     ]
    }
   ],
   "source": [
    "#calcualt damage\n",
    "nominal_dic = {}\n",
    "\n",
    "for cty in countries_30:\n",
    "    nominal = rp_exp(country=cty,\n",
    "                     prot_rp=upper_rp, \n",
    "                     res_exp=30)\n",
    "    \n",
    "    nominal_dic[cty] = nominal\n",
    "\n",
    "    print(f'Nominal calculated: {cty}')\n",
    "    \n",
    "    \n",
    "for cty in countries_150:\n",
    "    print(f\"Create bond for {cty}\")\n",
    "    nominal = rp_exp(country=cty,\n",
    "                     prot_rp=upper_rp, \n",
    "                     res_exp=150)\n",
    "    \n",
    "    nominal_dic[cty] = nominal\n",
    "\n",
    "    print(f'Nominal calculated: {cty}')"
   ]
  }
 ],
 "metadata": {
  "kernelspec": {
   "display_name": "climada_env",
   "language": "python",
   "name": "python3"
  },
  "language_info": {
   "codemirror_mode": {
    "name": "ipython",
    "version": 3
   },
   "file_extension": ".py",
   "mimetype": "text/x-python",
   "name": "python",
   "nbconvert_exporter": "python",
   "pygments_lexer": "ipython3",
   "version": "3.11.12"
  }
 },
 "nbformat": 4,
 "nbformat_minor": 2
}

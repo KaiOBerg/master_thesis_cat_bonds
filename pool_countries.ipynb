{
 "cells": [
  {
   "cell_type": "markdown",
   "metadata": {},
   "source": [
    "# Start Pooling"
   ]
  },
  {
   "cell_type": "code",
   "execution_count": 53,
   "metadata": {},
   "outputs": [
    {
     "name": "stdout",
     "output_type": "stream",
     "text": [
      "The autoreload extension is already loaded. To reload it, use:\n",
      "  %reload_ext autoreload\n"
     ]
    }
   ],
   "source": [
    "#import general packages\n",
    "import numpy as np\n",
    "import geopandas as gpd\n",
    "import pandas as pd\n",
    "import matplotlib.pyplot as plt\n",
    "\n",
    "#import climada stuff\n",
    "from climada.entity.impact_funcs import trop_cyclone, impact_func_set\n",
    "from climada.util.api_client import Client\n",
    "from climada.engine import ImpactCalc\n",
    "\n",
    "%load_ext autoreload\n",
    "%autoreload 2\n",
    "import exposures as ex\n",
    "import grider as grd\n",
    "import impact as cimp\n",
    "import bound_prot_dam as bpd\n",
    "import prem_ibrd as prib\n",
    "import haz_int_grd as hig\n",
    "import set_nominal as snom\n",
    "import calc_premium as cp\n",
    "import simulate_bond as sb\n",
    "import pay_opt as po\n",
    "import simulate_multi_cty_bond as smcb\n",
    "client = Client()"
   ]
  },
  {
   "cell_type": "markdown",
   "metadata": {},
   "source": [
    "## Define Countries and Variables for Cat Bond Development"
   ]
  },
  {
   "cell_type": "code",
   "execution_count": 17,
   "metadata": {},
   "outputs": [],
   "source": [
    "#choose storm basin to load\n",
    "#The STORM basins are: 'EP','NA','NI','SI','SP','WP'\n",
    "#basins = ['NA','SI']\n",
    "\n",
    "#choose country\n",
    "country_1 = 174\n",
    "country_2 = 662\n",
    "\n",
    "#minimum damage to be protected per grid cell calculated using return period\n",
    "lower_rp = 100\n",
    "\n",
    "#number of simulated years\n",
    "r = 10000\n",
    "\n",
    "#set risk free rate, either single value or array\n",
    "rf_rates = 0.05 \n",
    "\n",
    "#set range of premiums \n",
    "premiums = np.arange(0.00, 0.21, 0.01) \n",
    "#inititate IBRD premium calculation function\n",
    "params_ibrd = prib.init_prem_ibrd(want_plot=False)\n",
    "a, k, b = params_ibrd\n",
    "#set risk muliplier reported by artems\n",
    "artemis_multiplier = 4.11\n",
    "\n",
    "#set sharpe ratio to beat\n",
    "requ_sharpe_ratio = 1.0\n",
    "\n",
    "#set the maximum amount to be protected\n",
    "prot_share = 0.05"
   ]
  },
  {
   "cell_type": "markdown",
   "metadata": {},
   "source": [
    "## Define Cat Bond function"
   ]
  },
  {
   "cell_type": "code",
   "execution_count": 54,
   "metadata": {},
   "outputs": [],
   "source": [
    "def init_sng_cty_bond(country):    \n",
    "    #load tc_tracks, create hazard class and calculate exposure\n",
    "    exp, applicable_basins, storm_basin_sub, tc_storms = ex.init_TC_exp(country=country, load_fls=True)\n",
    "    #set up grid for cat bond\n",
    "    rst_grid = grd.init_grid(exp)\n",
    "    #calculate impact and aggregate impact per grid\n",
    "    imp, imp_per_exp, agg_exp, imp_grid_evt = cimp.init_imp(exp, tc_storms, rst_grid) \n",
    "    #set up hazard intensity matrix per grid and event\n",
    "    ws_grid = hig.init_ws_grid(tc_storms, agg_exp, 'max')\n",
    "    #set principal\n",
    "    nominal, tot_exp, nom_rel_exp = snom.init_nominal(impact=imp, exposure=exp, prot_share=prot_share)\n",
    "    #calculate damage return period and set small damages, not intended to protect to zero\n",
    "    rp_dam_grid, dam_rp_per_grid, imp_grid_evt_flt = bpd.init_dam_ret_per_grid(imp_grid_evt, lower_rp, adj_max=False, plt_dam_rp_grid=None)\n",
    "    #optimize minimum and maximum triggering wind speed per grid cell\n",
    "    result, optimized_xs, optimized_ys = po.init_optimization(imp_grid_evt_flt, ws_grid, rp_dam_grid, nominal)\n",
    "    #create data frame containing payment vs damage per event\n",
    "    pay_dam_df = po.pay_vs_damage(imp_grid_evt_flt, optimized_xs, optimized_ys, ws_grid, rp_dam_grid, nominal, include_plot=True)\n",
    "    #calculate yearly event probability\n",
    "    event_probability = len(pay_dam_df) / r\n",
    "    #calculate expected loss and attachment probability\n",
    "    exp_loss_ann, att_prob = sb.init_exp_loss_att_prob_simulation(pay_dam_df, nominal, event_probability)\n",
    "    #calculate premiums using different approaches\n",
    "    premium_ibrd = prib.monoExp(exp_loss_ann*100, a, k, b)/100\n",
    "    premium_artemis = exp_loss_ann * artemis_multiplier\n",
    "    premium_regression = cp.calc_premium_regression(exp_loss_ann *100)/100\n",
    "\n",
    "    print(f'The premium based on past IBRD bonds is {round(premium_ibrd*100, 3)}%')\n",
    "    print(f'The premium based on the artemis multiplier is {round(premium_artemis*100, 3)}%')\n",
    "    print(f'The premium based on the regression model from Chatoro et al. 2022 is {round(premium_regression*100, 3)}%')\n",
    "\n",
    "    #simulate cat bond\n",
    "    premium_simulation, returns = sb.init_bond_simulation(pay_dam_df, premiums, rf_rates, event_probability, nominal) #simulate cat bond using a Monte Carlo simulation\n",
    "    #determine premium to match required sharp ratio\n",
    "    requ_premiums = sb.init_requ_premium(requ_sharpe_ratio, premium_simulation, rf_rates) #calculate required premium to match minimum sharpe ratio\n",
    "    sb.display_premiums(requ_premiums, requ_sharpe_ratio, rf_rates, premium_simulation)   #plot premium versus sharpe ratio\n",
    "\n",
    "    return premium_simulation, exp_loss_ann, att_prob, requ_premiums, nominal, pay_dam_df, event_probability"
   ]
  },
  {
   "cell_type": "markdown",
   "metadata": {},
   "source": [
    "### Design Cat Bond for Country 1"
   ]
  },
  {
   "cell_type": "code",
   "execution_count": 55,
   "metadata": {},
   "outputs": [
    {
     "name": "stdout",
     "output_type": "stream",
     "text": [
      "STORM basin of country:  NA\n",
      "----------------------Loading Exposure----------------------\n",
      "----------------------Generate Hazard----------------------\n",
      "----------------------Initiating TC Tracks----------------------\n"
     ]
    },
    {
     "name": "stderr",
     "output_type": "stream",
     "text": [
      "c:\\users\\kaibe\\climada\\climada_python\\climada\\hazard\\tc_tracks.py:308: UserWarning: Geometry is in a geographic CRS. Results from 'buffer' are likely incorrect. Use 'GeoSeries.to_crs()' to re-project geometries to a projected CRS before this operation.\n",
      "\n",
      "  exp_buffer = exposure.gdf.buffer(distance=buffer, resolution=0)\n",
      "c:\\Users\\kaibe\\miniforge3\\envs\\climada_env\\lib\\site-packages\\shapely\\constructive.py:181: RuntimeWarning: divide by zero encountered in buffer\n",
      "  return lib.buffer(\n",
      "c:\\Users\\kaibe\\miniforge3\\envs\\climada_env\\lib\\site-packages\\geopandas\\geodataframe.py:204: FutureWarning: You are adding a column named 'geometry' to a GeoDataFrame constructed without an active geometry column. Currently, this automatically sets the active geometry column to 'geometry' but in the future that will no longer happen. Instead, either provide geometry to the GeoDataFrame constructor (GeoDataFrame(... geometry=GeoSeries()) or use `set_geometry('geometry')` to explicitly set the active geometry column.\n",
      "  object.__setattr__(self, attr, val)\n",
      "c:\\users\\kaibe\\climada\\climada_python\\climada\\hazard\\tc_tracks.py:311: UserWarning: Geometry is in a geographic CRS. Results from 'buffer' are likely incorrect. Use 'GeoSeries.to_crs()' to re-project geometries to a projected CRS before this operation.\n",
      "\n",
      "  tc_tracks_lines = self.to_geodataframe().buffer(distance=buffer)\n",
      "c:\\Users\\kaibe\\miniforge3\\envs\\climada_env\\lib\\site-packages\\shapely\\constructive.py:181: RuntimeWarning: divide by zero encountered in buffer\n",
      "  return lib.buffer(\n"
     ]
    },
    {
     "name": "stdout",
     "output_type": "stream",
     "text": [
      "Number of tracks in NA basin: 1344\n"
     ]
    }
   ],
   "source": [
    "premium_simulation_662, exp_loss_ann_662, att_prob_662, requ_premiums_662, nominal_662, pay_dam_df_662, event_probability_662 = init_sng_cty_bond(country=country_2)"
   ]
  },
  {
   "cell_type": "markdown",
   "metadata": {},
   "source": [
    "### Design Cat Bond for Country 2"
   ]
  },
  {
   "cell_type": "code",
   "execution_count": null,
   "metadata": {},
   "outputs": [],
   "source": [
    "premium_simulation_174, exp_loss_ann_174, att_prob_174, requ_premiums_174, nominal_174, pay_dam_df_174, event_probability_174 = init_sng_cty_bond(country=country_1)"
   ]
  },
  {
   "cell_type": "markdown",
   "metadata": {},
   "source": [
    "### Set Variables for Multi-Country Bond"
   ]
  },
  {
   "cell_type": "code",
   "execution_count": null,
   "metadata": {},
   "outputs": [],
   "source": [
    "pay_dam_df_dic = {country_1: pay_dam_df_174,\n",
    "                  country_2: pay_dam_df_662}\n",
    "\n",
    "event_probabilities = [event_probability_174, event_probability_662]\n",
    "\n",
    "nominal_pool = nominal_174 + nominal_662"
   ]
  },
  {
   "cell_type": "markdown",
   "metadata": {},
   "source": [
    "### Create Multi-Country bond"
   ]
  },
  {
   "cell_type": "code",
   "execution_count": null,
   "metadata": {},
   "outputs": [],
   "source": [
    "metrics_mlt_cty_bond, returns_mlt_cty_bond = smcb.init_bond_simulation(pay_dam_df_dic, premiums, rf_rates, event_probabilities, nominal_pool)\n",
    "\n",
    "requ_premiums = sb.init_requ_premium(requ_sharpe_ratio, metrics_mlt_cty_bond, rf_rates) #calculate required premium to match minimum sharpe ratio\n",
    "sb.display_premiums(requ_premiums, requ_sharpe_ratio, rf_rates, metrics_mlt_cty_bond)   #plot premium versus sharpe ratio"
   ]
  }
 ],
 "metadata": {
  "kernelspec": {
   "display_name": "climada_env",
   "language": "python",
   "name": "python3"
  },
  "language_info": {
   "codemirror_mode": {
    "name": "ipython",
    "version": 3
   },
   "file_extension": ".py",
   "mimetype": "text/x-python",
   "name": "python",
   "nbconvert_exporter": "python",
   "pygments_lexer": "ipython3",
   "version": "3.9.19"
  }
 },
 "nbformat": 4,
 "nbformat_minor": 2
}

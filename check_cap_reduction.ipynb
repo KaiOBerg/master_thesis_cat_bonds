{
 "cells": [
  {
   "cell_type": "code",
   "execution_count": 1,
   "metadata": {},
   "outputs": [
    {
     "name": "stderr",
     "output_type": "stream",
     "text": [
      "c:\\Users\\kaibe\\miniforge3\\envs\\climada_env\\lib\\site-packages\\dask\\dataframe\\_pyarrow_compat.py:17: FutureWarning: Minimal version of pyarrow will soon be increased to 14.0.1. You are using 11.0.0. Please consider upgrading.\n",
      "  warnings.warn(\n"
     ]
    }
   ],
   "source": [
    "#import general packages\n",
    "import numpy as np\n",
    "from scipy.stats import spearmanr\n",
    "from colorama import Fore, Style, Back\n",
    "from pathlib import Path\n",
    "import pandas as pd\n",
    "import matplotlib.pyplot as plt\n",
    "\n",
    "%load_ext autoreload\n",
    "%autoreload 2\n",
    "import exposures_climada as ex\n",
    "import impact as cimp\n",
    "import bound_prot_dam as bpd\n",
    "import n_fct_t_rl_thm_ll as bond_fct\n",
    "import prem_ibrd as prib\n",
    "import haz_int_grd as hig\n",
    "import set_nominal as snom\n",
    "import functions as fct\n",
    "import calc_premium as cp\n",
    "import simulate_bond as sb\n",
    "import alt_pay_opt as apo"
   ]
  },
  {
   "cell_type": "code",
   "execution_count": 2,
   "metadata": {},
   "outputs": [],
   "source": [
    "#define minimum return period to be covered\n",
    "lower_rp = 0.05\n",
    "lower_share = 0.01\n",
    "#define maximum return period to be covered\n",
    "upper_rp = 250\n",
    "\n",
    "#define benchmark sharpe ratio\n",
    "target_sharpe = 0.5\n",
    "\n",
    "#define the risk free rate\n",
    "rf_rate = 0.05"
   ]
  },
  {
   "cell_type": "code",
   "execution_count": 3,
   "metadata": {},
   "outputs": [
    {
     "name": "stdout",
     "output_type": "stream",
     "text": [
      "Number of tracks in NA basin: 2692\n",
      "The principal of the cat bond is: 319894837.909 [USD]\n",
      "Principal as share of GDP: 0.307\n"
     ]
    }
   ],
   "source": [
    "bond_metrics_gre, returns_gre, premium_dic_gre, nominal_gre, pay_dam_df_gre, es_metrics_gre, int_grid_gre, imp_per_event_flt_gre, imp_admin_evt_flt_gre = bond_fct.sng_cty_bond(country=308,\n",
    "                                                                                                                                                                                prot_share=upper_rp, \n",
    "                                                                                                                                                                                rf_rate=rf_rate, \n",
    "                                                                                                                                                                                target_sharpe=target_sharpe, \n",
    "                                                                                                                                                                                to_prot_share=lower_share)"
   ]
  },
  {
   "cell_type": "markdown",
   "metadata": {},
   "source": [
    "St. Vincent and the Granadines needs a return period of 2500 years <br>\n",
    "St. Kitts and Nevis needs a return period of 800 years <br>\n",
    "Cabo verde needs a return period of 200 years <br>\n",
    "Samoa needs a return period of 300 years <br>\n",
    "Comoros need a return period of 200 years <br>\n",
    "St. Lucia needs a return period of <100 years but savings dont really change up onto 2000 years <br>\n",
    "Dominica needs a return period of 700 years <br>"
   ]
  },
  {
   "cell_type": "code",
   "execution_count": 43,
   "metadata": {},
   "outputs": [
    {
     "name": "stdout",
     "output_type": "stream",
     "text": [
      "Number of tracks in NA basin: 1407\n",
      "The principal of the cat bond is: 1772462278.574 [USD]\n",
      "Principal as share of GDP: 0.371\n",
      "Number of tracks in NA basin: 1407\n",
      "The principal of the cat bond is: 2098898392.031 [USD]\n",
      "Principal as share of GDP: 0.439\n",
      "Number of tracks in NA basin: 1407\n",
      "The principal of the cat bond is: 2153616062.712 [USD]\n",
      "Principal as share of GDP: 0.451\n"
     ]
    }
   ],
   "source": [
    "upper_rp_arr = np.arange(500,2000,500)\n",
    "\n",
    "bond_metrics_vin = {}\n",
    "returns_vin = {}\n",
    "premium_dic_vin = {}\n",
    "nominal_vin = {}\n",
    "pay_dam_df_vin = {}\n",
    "es_metrics_vin = {}\n",
    "int_grid_vin = {}\n",
    "imp_per_event_flt_vin = {}\n",
    "imp_admin_evt_flt_vin = {}\n",
    "\n",
    "for i in upper_rp_arr:\n",
    "    bond_metrics, returns, premium_dic, nominal, pay_dam_df, es_metrics, int_grid, imp_per_event_flt, imp_admin_evt_flt = bond_fct.sng_cty_bond(country=52,\n",
    "                                                                                                                                                prot_share=i, \n",
    "                                                                                                                                                rf_rate=rf_rate, \n",
    "                                                                                                                                                target_sharpe=target_sharpe, \n",
    "                                                                                                                                                to_prot_share=lower_share)\n",
    "    \n",
    "    bond_metrics_vin[i] = bond_metrics\n",
    "    returns_vin[i] = returns\n",
    "    premium_dic_vin[i] = premium_dic\n",
    "    nominal_vin[i] = nominal\n",
    "    pay_dam_df_vin[i] = pay_dam_df\n",
    "    es_metrics_vin[i] = es_metrics\n",
    "    int_grid_vin[i] = int_grid\n",
    "    imp_per_event_flt_vin[i] = imp_per_event_flt\n",
    "    imp_admin_evt_flt_vin[i] = imp_admin_evt_flt\n",
    "\n"
   ]
  },
  {
   "cell_type": "code",
   "execution_count": 44,
   "metadata": {},
   "outputs": [
    {
     "name": "stdout",
     "output_type": "stream",
     "text": [
      "Expected Loss = 0.016884157659914856\n",
      "Attachment Probability = 0.09382814844453335\n",
      "0.9204791905159394\n",
      "Expected Loss = 0.0147564042430903\n",
      "Attachment Probability = 0.09226101163682437\n",
      "0.867746100018361\n",
      "Expected Loss = 0.014443814684202354\n",
      "Attachment Probability = 0.09226101163682437\n",
      "0.870671749282183\n"
     ]
    }
   ],
   "source": [
    "import simulate_multi_cty_bond as smcb\n",
    "\n",
    "pay_dam_pool_bs = {308: pay_dam_df_gre}\n",
    "nominal_pool_bs = {308: nominal_gre}\n",
    "\n",
    "for i in upper_rp_arr:\n",
    "\n",
    "    countries_pool = [308, 670]\n",
    "    pay_dam_pool_it = pay_dam_pool_bs.copy()\n",
    "    nominal_pool_it = nominal_pool_bs.copy()\n",
    "    pay_dam_pool_it[670] = pay_dam_df_vin[i]\n",
    "    nominal_pool_it[670] = nominal_vin[i]\n",
    "    nom_cty = []\n",
    "    for cty in nominal_pool_it.keys():\n",
    "        nom_cty.append(nominal_pool_it[cty])\n",
    "    nominal_pool = (np.sum(nom_cty))\n",
    "    exp_loss_ann, att_prob, ann_losses, total_losses, es_metrics, MES_cty = smcb.init_exp_loss_att_prob_simulation(countries_pool, pay_dam_pool_it, nominal_pool, nominal_pool_it, print_prob=True)\n",
    "    requ_nom = total_losses.max()\n",
    "    print(requ_nom)\n"
   ]
  },
  {
   "cell_type": "code",
   "execution_count": 45,
   "metadata": {},
   "outputs": [],
   "source": [
    "y = pay_dam_pool_it[670]\n",
    "z = pay_dam_pool_it[308]\n"
   ]
  }
 ],
 "metadata": {
  "kernelspec": {
   "display_name": "climada_env",
   "language": "python",
   "name": "python3"
  },
  "language_info": {
   "codemirror_mode": {
    "name": "ipython",
    "version": 3
   },
   "file_extension": ".py",
   "mimetype": "text/x-python",
   "name": "python",
   "nbconvert_exporter": "python",
   "pygments_lexer": "ipython3",
   "version": "3.9.19"
  }
 },
 "nbformat": 4,
 "nbformat_minor": 2
}

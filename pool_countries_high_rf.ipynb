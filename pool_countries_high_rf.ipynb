{
 "cells": [
  {
   "cell_type": "markdown",
   "metadata": {},
   "source": [
    "# Start Pooling"
   ]
  },
  {
   "cell_type": "markdown",
   "metadata": {},
   "source": [
    "# Start Pooling"
   ]
  },
  {
   "cell_type": "code",
   "execution_count": 1,
   "metadata": {},
   "outputs": [
    {
     "name": "stderr",
     "output_type": "stream",
     "text": [
      "c:\\Users\\kaibe\\miniforge3\\envs\\climada_env\\lib\\site-packages\\dask\\dataframe\\_pyarrow_compat.py:17: FutureWarning: Minimal version of pyarrow will soon be increased to 14.0.1. You are using 11.0.0. Please consider upgrading.\n",
      "  warnings.warn(\n"
     ]
    }
   ],
   "source": [
    "#import general packages\n",
    "import numpy as np\n",
    "import pandas as pd\n",
    "import matplotlib.pyplot as plt\n",
    "\n",
    "%load_ext autoreload\n",
    "%autoreload 2\n",
    "import n_fct_t_rl_thm_ll as bond_fct\n",
    "import prem_ibrd as prib\n",
    "\n"
   ]
  },
  {
   "cell_type": "code",
   "execution_count": 2,
   "metadata": {},
   "outputs": [],
   "source": [
    "bond_cache = {}\n",
    "\n",
    "def get_bond_metrics(pool, pay_dam_pool_it, nominal_pool_it):\n",
    "    pool_key = tuple(sorted(pool))  # Create a unique key for the pool\n",
    "    if pool_key not in bond_cache:\n",
    "        # If result isn't cached, compute and store it\n",
    "        pay_dam_temp = {c: pay_dam_pool_it[c] for c in pool}\n",
    "        nominal_temp = {c: nominal_pool_it[c] for c in pool}\n",
    "        bond_metrics, returns, tot_coverage, premium_dic, nominal, es_metrics, MES_cty = bond_fct.mlt_cty_bond(\n",
    "            countries=pool,\n",
    "            pay_dam_df_dic=pay_dam_temp,\n",
    "            nominals_dic=nominal_temp,\n",
    "            opt_cap=True,\n",
    "        )\n",
    "        bond_cache[pool_key] = {\n",
    "            \"Returns\": returns\n",
    "            }\n",
    "    return bond_cache[pool_key]"
   ]
  },
  {
   "cell_type": "markdown",
   "metadata": {},
   "source": [
    "## Define Countries and Variables for Cat Bond Development"
   ]
  },
  {
   "cell_type": "code",
   "execution_count": 3,
   "metadata": {},
   "outputs": [],
   "source": [
    "#choose country\n",
    "countries = [212, 670]\n",
    "countries_150 = []\n",
    "countries_30 = [212,670]\n",
    "#minimum damage to be protected per grid cell calculated using return period\n",
    "lower_rp = 100\n",
    "\n",
    "#number of simulated years\n",
    "r = 10000\n",
    "\n",
    "#set risk free rate, either single value or array\n",
    "rf_rates = 0.00\n",
    "\n",
    "\n",
    "#inititate IBRD premium calculation function\n",
    "params_ibrd = prib.init_prem_ibrd(want_plot=False)\n",
    "a, k, b = params_ibrd\n",
    "#set risk muliplier reported by artems\n",
    "artemis_multiplier = 4.11\n",
    "\n",
    "#set sharpe ratio to beat\n",
    "target_sharpe = 0.5\n",
    "\n",
    "prot_share = 0.008\n",
    "lower_share = 0.045\n",
    "prot_rp = 250\n",
    "lower_rp = 30"
   ]
  },
  {
   "cell_type": "markdown",
   "metadata": {},
   "source": [
    "## Designe Single Country Bonds\n",
    "### Define Cat Bond function"
   ]
  },
  {
   "cell_type": "markdown",
   "metadata": {},
   "source": [
    "### Design Cat Bond for Country 1"
   ]
  },
  {
   "cell_type": "code",
   "execution_count": 4,
   "metadata": {},
   "outputs": [
    {
     "name": "stdout",
     "output_type": "stream",
     "text": [
      "Create bond for 212\n",
      "Number of tracks in NA basin: 4904\n",
      "The principal of the cat bond is: 190385817.244 [USD]\n",
      "Principal as share of GDP: 0.378\n",
      "Create bond for 670\n",
      "Number of tracks in NA basin: 5476\n",
      "The principal of the cat bond is: 307641548.326 [USD]\n",
      "Principal as share of GDP: 0.354\n"
     ]
    }
   ],
   "source": [
    "bond_metrics_sng_dic = {}\n",
    "returns_sng_dic = {}\n",
    "premium_dic_sng_dic = {}\n",
    "nominal_sng_dic = {}\n",
    "pay_dam_df_sng_dic = {}\n",
    "es_metrics_sng_dic = {}\n",
    "int_grid_sng_dic = {}\n",
    "imp_per_event_flt_sng_dic = {}\n",
    "imp_admin_evt_flt_sng_dic = {}\n",
    "\n",
    "for cty in countries:\n",
    "    if cty in bond_metrics_sng_dic:\n",
    "        print(f\"Bond for {cty} already calculated, skipping.\")\n",
    "        continue\n",
    "    print(f'Create bond for {cty}')\n",
    "    if cty in countries_150:\n",
    "        bond_metrics, returns, premium_dic, nominal, pay_dam_df, es_metrics, int_grid, imp_per_event_flt, imp_admin_evt_flt = bond_fct.sng_cty_bond(country=cty,\n",
    "                                                                                                                                                    prot_rp=prot_rp, \n",
    "                                                                                                                                                    to_prot_share=lower_share,\n",
    "                                                                                                                                                    buffer_distance_km=105,\n",
    "                                                                                                                                                    res_exp=150,\n",
    "                                                                                                                                                    grid_size=1000,\n",
    "                                                                                                                                                    buffer_grid_size=3,\n",
    "                                                                                                                                                    incl_plots=False)\n",
    "    if cty in countries_30:\n",
    "        bond_metrics, returns, premium_dic, nominal, pay_dam_df, es_metrics, int_grid, imp_per_event_flt, imp_admin_evt_flt = bond_fct.sng_cty_bond(country=cty,\n",
    "                                                                                                                                                    prot_rp=prot_rp, \n",
    "                                                                                                                                                    to_prot_share=lower_share,\n",
    "                                                                                                                                                    buffer_distance_km=105,\n",
    "                                                                                                                                                    res_exp=30,\n",
    "                                                                                                                                                    grid_size=1000,\n",
    "                                                                                                                                                    buffer_grid_size=3,\n",
    "                                                                                                                                                    incl_plots=False)\n",
    "    bond_metrics_sng_dic[cty] = bond_metrics\n",
    "    returns_sng_dic[cty] = returns\n",
    "    premium_dic_sng_dic[cty] = premium_dic\n",
    "    nominal_sng_dic[cty] = nominal\n",
    "    pay_dam_df_sng_dic[cty] = pay_dam_df\n",
    "    es_metrics_sng_dic[cty] = es_metrics\n",
    "    int_grid_sng_dic[cty] = int_grid\n",
    "    imp_per_event_flt_sng_dic[cty] = imp_per_event_flt\n",
    "    imp_admin_evt_flt_sng_dic[cty] = imp_admin_evt_flt"
   ]
  },
  {
   "cell_type": "markdown",
   "metadata": {},
   "source": [
    "## Designe Multi-Country Bond\n",
    "### Set Variables for Multi-Country Bond"
   ]
  },
  {
   "cell_type": "markdown",
   "metadata": {},
   "source": [
    "### Create Multi-Country bond"
   ]
  },
  {
   "cell_type": "code",
   "execution_count": 8,
   "metadata": {},
   "outputs": [],
   "source": [
    "nominal_dic = {}\n",
    "pay_dam_df_dic = {}\n",
    "for cty in countries:\n",
    "    nominal_dic[cty] = nominal_sng_dic[cty]\n",
    "    pay_dam_df_dic[cty] = pay_dam_df_sng_dic[cty]\n",
    "    \n",
    "bond_metrics_pool, returns_pool, tot_coverage_pool, premium_dic_pool, nominal_pool, es_metrics_pool, MES_cty_pool = bond_fct.mlt_cty_bond(countries=countries,pay_dam_df_dic=pay_dam_df_dic,nominals_dic=nominal_dic,opt_cap=True)"
   ]
  },
  {
   "cell_type": "code",
   "execution_count": 6,
   "metadata": {},
   "outputs": [
    {
     "data": {
      "text/plain": [
       "0.0"
      ]
     },
     "execution_count": 6,
     "metadata": {},
     "output_type": "execute_result"
    }
   ],
   "source": [
    "el_pool = []\n",
    "for cty in countries:\n",
    "    el_pool.append(MES_cty_pool[cty]['EL'])\n",
    "\n",
    "sum(el_pool)-premium_dic_pool['exp_loss']"
   ]
  },
  {
   "cell_type": "code",
   "execution_count": null,
   "metadata": {},
   "outputs": [],
   "source": [
    "sng_ann_ret = {}\n",
    "for cty in countries:\n",
    "    sng_ann_ret[cty] = returns_sng_dic[cty]['Annual'][0] \n",
    "\n",
    "pool_ann_ret = returns_pool['Annual'][0]"
   ]
  },
  {
   "cell_type": "code",
   "execution_count": null,
   "metadata": {},
   "outputs": [],
   "source": [
    "df_returns = pd.DataFrame({f\"{country} Returns\": returns for country, returns in sng_ann_ret.items()})\n",
    "\n",
    "r = np.mean(df_returns,axis=0)\n",
    "\n",
    "# Create a covariance matrix\n",
    "covar = df_returns.cov()"
   ]
  },
  {
   "cell_type": "code",
   "execution_count": null,
   "metadata": {},
   "outputs": [],
   "source": [
    "p_ret = [] # Define an empty array for portfolio returns\n",
    "p_vol = [] # Define an empty array for portfolio volatility\n",
    "p_weights = [] # Define an empty array for asset weights\n",
    "\n",
    "num_assets = len(df_returns.columns)\n",
    "num_portfolios = 10000"
   ]
  },
  {
   "cell_type": "code",
   "execution_count": null,
   "metadata": {},
   "outputs": [],
   "source": [
    "from numpy.random import dirichlet\n",
    "\n",
    "num_portfolios = 10000  # Number of portfolios to simulate\n",
    "alpha = 1\n",
    "\n",
    "for _ in range(num_portfolios):\n",
    "    weights = dirichlet([alpha] * num_assets)\n",
    "    weights = weights/np.sum(weights)\n",
    "    p_weights.append(weights)\n",
    "    returns = np.dot(weights, r) # Returns are the product of individual expected returns of asset and its \n",
    "                                      # weights \n",
    "    p_ret.append(returns)\n",
    "    var = covar.mul(weights, axis=0).mul(weights, axis=1).sum().sum()# Portfolio Variance\n",
    "    sd = np.sqrt(var) # yearly standard deviation\n",
    "    p_vol.append(sd)"
   ]
  },
  {
   "cell_type": "code",
   "execution_count": null,
   "metadata": {},
   "outputs": [],
   "source": [
    "data = {'Returns':p_ret, 'Volatility':p_vol, 'Sharpe Ratio':np.array(p_ret)/np.array(p_vol)}\n",
    "\n",
    "for counter, symbol in enumerate(df_returns.columns.tolist()):\n",
    "    #print(counter, symbol)\n",
    "    data[symbol+' weight'] = [w[counter] for w in p_weights]"
   ]
  },
  {
   "cell_type": "code",
   "execution_count": null,
   "metadata": {},
   "outputs": [],
   "source": [
    "portfolios  = pd.DataFrame(data)\n",
    "max_sharpe_idx = portfolios['Sharpe Ratio'].idxmax()\n",
    "max_sharpe_portfolio = portfolios.loc[max_sharpe_idx]\n",
    "portfolios.head() # Dataframe of the 10000 portfolios created"
   ]
  },
  {
   "cell_type": "code",
   "execution_count": null,
   "metadata": {},
   "outputs": [],
   "source": [
    "# Plot efficient frontier\n",
    "portfolios.plot.scatter(x='Volatility', y='Returns', c='Sharpe Ratio', cmap='viridis', marker='o', s=10, alpha=0.3, grid=True, figsize=[10,10])\n",
    "plt.text(max_sharpe_portfolio['Volatility'] + 0.001,max_sharpe_portfolio['Returns'],f\"Max Sharpe: {max_sharpe_portfolio['Sharpe Ratio']:.2f}\",fontsize=10,ha='left',va='center',color='red')\n",
    "\n",
    "# Plot pool point\n",
    "plt.scatter(np.std(pool_ann_ret), np.mean(pool_ann_ret), label='pool', color='purple', s=100)\n",
    "\n",
    "# Add label for pool Sharpe ratio\n",
    "plt.text(np.std(pool_ann_ret)+0.001,np.mean(pool_ann_ret),f'Sharpe: {np.mean(pool_ann_ret)/np.std(pool_ann_ret):.2f}',fontsize=10,ha='left',va='center',color='purple')\n",
    "\n",
    "for cty in countries:\n",
    "    plt.scatter(np.std(sng_ann_ret[cty]), np.mean(sng_ann_ret[cty]), label=cty, s=100)\n",
    "plt.legend()"
   ]
  },
  {
   "cell_type": "code",
   "execution_count": null,
   "metadata": {},
   "outputs": [],
   "source": [
    "closest_index = (portfolios['Volatility'] - np.std(pool_ann_ret)).abs().idxmin()\n",
    "\n",
    "# Extract the corresponding return\n",
    "closest_return = portfolios.loc[closest_index, 'Returns']\n",
    "closest_volatility = portfolios.loc[closest_index, 'Volatility']\n",
    "print(np.mean(pool_ann_ret) - closest_return)\n",
    "print(np.std(pool_ann_ret) - closest_volatility)\n"
   ]
  },
  {
   "cell_type": "code",
   "execution_count": null,
   "metadata": {},
   "outputs": [],
   "source": [
    "x = countries.copy()\n",
    "x = [str(entry) for entry in x]\n",
    "x.append('pool')\n",
    "y = []\n",
    "for cty in countries:\n",
    "    y.append(bond_metrics_sng_dic[cty]['Total Premiums']/bond_metrics_sng_dic[cty]['Summed Payments'])\n",
    "y.append(bond_metrics_pool['Total Premiums']/bond_metrics_pool['Summed Payments'])\n",
    "plt.scatter(x,y)"
   ]
  },
  {
   "cell_type": "code",
   "execution_count": null,
   "metadata": {},
   "outputs": [],
   "source": [
    "s = []\n",
    "n = []\n",
    "for cty in countries:\n",
    "    s.append(bond_metrics_sng_dic[cty]['Total Premiums'])\n",
    "    n.append(nominal_sng_dic[cty])\n",
    "\n",
    "print(bond_metrics_pool['Total Premiums'][0]/np.sum(s))\n",
    "print(nominal_pool/np.sum(n))"
   ]
  }
 ],
 "metadata": {
  "kernelspec": {
   "display_name": "climada_env",
   "language": "python",
   "name": "python3"
  },
  "language_info": {
   "codemirror_mode": {
    "name": "ipython",
    "version": 3
   },
   "file_extension": ".py",
   "mimetype": "text/x-python",
   "name": "python",
   "nbconvert_exporter": "python",
   "pygments_lexer": "ipython3",
   "version": "3.9.19"
  }
 },
 "nbformat": 4,
 "nbformat_minor": 2
}

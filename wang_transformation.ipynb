{
 "cells": [
  {
   "cell_type": "markdown",
   "metadata": {},
   "source": [
    "The wand transformation is a very popular approach in insurance pricing. Although not used for the final results, it could be utilized for further research, if for example cat bonds are compared to reinsurance.\n",
    "However, functions would have to be revise before that"
   ]
  },
  {
   "cell_type": "code",
   "execution_count": null,
   "metadata": {},
   "outputs": [],
   "source": [
    "from scipy.stats import norm\n",
    "import numpy as np\n",
    "from scipy.interpolate import interp1d\n",
    "\n",
    "\n",
    "losses = rel_simulated_ncf.copy()\n",
    "wins = rel_simulated_ncf.copy()\n",
    "losses[losses > 0] = 0\n",
    "losses = losses * -1\n",
    "wins = wins[wins > 0] \n",
    "\n",
    "def wang_transform(losses, lambda_value):\n",
    "    \"\"\"\n",
    "    Apply Wang transformation to adjust probabilities for risk aversion.\n",
    "    \n",
    "    Parameters:\n",
    "    - losses: List or array of relative losses (values between 0 and 1).\n",
    "    - lambda_value: Risk aversion parameter (positive for risk-averse, negative for risk-seeking).\n",
    "    \n",
    "    Returns:\n",
    "    - Transformed probabilities reflecting risk aversion.\n",
    "    \"\"\"\n",
    "\n",
    "    # Step 1: Compute the empirical CDF of the returns\n",
    "    sorted_losses = np.sort(losses)\n",
    "    n = len(sorted_losses)\n",
    "    exceedance_prob = 1 - (np.arange(1, n + 1) / n)\n",
    "    \n",
    "    # Step 2: Apply the Wang transformation to the probabilities\n",
    "    wang_exceedance_prob = norm.cdf(norm.ppf(exceedance_prob) + lambda_value)\n",
    "    \n",
    "    # Step 3: Interpolate the transformed probabilities to find transformed returns\n",
    "    #transformed_losses = np.interp(wang_exceedance_prob, exceedance_prob, sorted_losses)\n",
    "\n",
    "    interp_function = interp1d(exceedance_prob, sorted_losses, kind='linear', fill_value='extrapolate')\n",
    "    transformed_losses = interp_function(wang_exceedance_prob)\n",
    "\n",
    "    return transformed_losses, wang_exceedance_prob, exceedance_prob, sorted_losses\n",
    "\n",
    "# Example usage:\n",
    "lambda_value = 0.5  # Risk aversion parameter\n",
    "transformed_losses, wang_exceedance_prob, exceedance_prob, sorted_losses = wang_transform(rel_simulated_ncf, lambda_value)\n"
   ]
  },
  {
   "cell_type": "code",
   "execution_count": null,
   "metadata": {},
   "outputs": [],
   "source": [
    "plt.plot(exceedance_prob, color='green')\n",
    "plt.plot(wang_exceedance_prob, color='pink')\n",
    "plt.plot(sorted_losses, color='orange')\n",
    "plt.plot(transformed_losses, color='red')\n",
    "plt.show"
   ]
  },
  {
   "cell_type": "code",
   "execution_count": null,
   "metadata": {},
   "outputs": [],
   "source": [
    "td_ncf = np.std(transformed_losses)\n",
    "exp_ret = transformed_losses.mean()\n",
    "sharpe_ratio = (exp_ret - rf) / td_ncf\n",
    "print('The expected sharp ratio is: ', sharpe_ratio)"
   ]
  }
 ],
 "metadata": {
  "kernelspec": {
   "display_name": "climada_env",
   "language": "python",
   "name": "python3"
  },
  "language_info": {
   "name": "python",
   "version": "3.11.11"
  }
 },
 "nbformat": 4,
 "nbformat_minor": 2
}
